{
 "cells": [
  {
   "cell_type": "code",
   "execution_count": 1,
   "id": "2cc57be4",
   "metadata": {},
   "outputs": [],
   "source": [
    "import pandas as pd\n",
    "import numpy as np\n",
    "import os"
   ]
  },
  {
   "cell_type": "code",
   "execution_count": 4,
   "id": "4b1ef172",
   "metadata": {},
   "outputs": [
    {
     "data": {
      "text/plain": [
       "'C:\\\\Users\\\\Admin\\\\smart_crosswalk\\\\analysis'"
      ]
     },
     "execution_count": 4,
     "metadata": {},
     "output_type": "execute_result"
    }
   ],
   "source": [
    "os.getcwd()"
   ]
  },
  {
   "cell_type": "code",
   "execution_count": 5,
   "id": "97a2d425",
   "metadata": {},
   "outputs": [],
   "source": [
    "data = pd.read_csv(\"../data/handled/2022_merged_data.csv\",encoding = 'cp949')"
   ]
  },
  {
   "cell_type": "code",
   "execution_count": 14,
   "id": "12972d36",
   "metadata": {},
   "outputs": [],
   "source": [
    "data = data.iloc[:,1:]"
   ]
  },
  {
   "cell_type": "code",
   "execution_count": 21,
   "id": "c2801b77",
   "metadata": {},
   "outputs": [],
   "source": [
    "cols = ['통과 보행자', '보행시간', '보행자분류_일반',\n",
    "       '보행자분류_적색횡단', '보행자분류_무단횡단', '연장_횟수', '연장_시간', '연장_보행자', '교통약자_목발',\n",
    "       '교통약자_휠체어', '교통약자_유모차', '교통약자_합계', '잔여']"
   ]
  },
  {
   "cell_type": "code",
   "execution_count": 22,
   "id": "bf4f320b",
   "metadata": {},
   "outputs": [],
   "source": [
    "data.loc[data.현장명.str.startswith(\"자운\")][cols].describe().to_csv(\"자운_기초통계량.csv\",encoding = 'cp949')"
   ]
  },
  {
   "cell_type": "code",
   "execution_count": 20,
   "id": "11945394",
   "metadata": {},
   "outputs": [
    {
     "data": {
      "text/plain": [
       "Index(['번호', '신호횟수', '운영시간', '녹색시간', '통과 보행자', '보행시간', '보행자분류_일반',\n",
       "       '보행자분류_적색횡단', '보행자분류_무단횡단', '연장_횟수', '연장_시간', '연장_보행자', '교통약자_목발',\n",
       "       '교통약자_휠체어', '교통약자_유모차', '교통약자_합계', '잔여'],\n",
       "      dtype='object')"
      ]
     },
     "execution_count": 20,
     "metadata": {},
     "output_type": "execute_result"
    }
   ],
   "source": [
    "data.describe().columns"
   ]
  },
  {
   "cell_type": "markdown",
   "id": "5c32ec90",
   "metadata": {},
   "source": [
    "# 기초통계량 -- > 현장별 csv 저장"
   ]
  },
  {
   "cell_type": "code",
   "execution_count": 17,
   "id": "4c5abb59",
   "metadata": {
    "scrolled": true
   },
   "outputs": [
    {
     "data": {
      "text/plain": [
       "array(['자운학교앞(5)', '금촌119안전센터(3)', '노인복지관(2)', '파주병원(4)'], dtype=object)"
      ]
     },
     "execution_count": 17,
     "metadata": {},
     "output_type": "execute_result"
    }
   ],
   "source": [
    "data.현장명.unique()"
   ]
  },
  {
   "cell_type": "code",
   "execution_count": 23,
   "id": "8ace6d78",
   "metadata": {},
   "outputs": [],
   "source": [
    "data.loc[data.현장명.str.startswith('금촌')][cols].describe().to_csv(\"자운_기초통계량.csv\",encoding = 'cp949')\n",
    "data.loc[data.현장명.str.startswith(\"노인\")][cols].describe().to_csv(\"노인_기초통계량.csv\",encoding = 'cp949')\n",
    "data.loc[data.현장명.str.startswith(\"파주\")][cols].describe().to_csv(\"파주병원_기초통계량.csv\",encoding = 'cp949')"
   ]
  },
  {
   "cell_type": "code",
   "execution_count": 24,
   "id": "eca18754",
   "metadata": {},
   "outputs": [
    {
     "data": {
      "text/html": [
       "<div>\n",
       "<style scoped>\n",
       "    .dataframe tbody tr th:only-of-type {\n",
       "        vertical-align: middle;\n",
       "    }\n",
       "\n",
       "    .dataframe tbody tr th {\n",
       "        vertical-align: top;\n",
       "    }\n",
       "\n",
       "    .dataframe thead th {\n",
       "        text-align: right;\n",
       "    }\n",
       "</style>\n",
       "<table border=\"1\" class=\"dataframe\">\n",
       "  <thead>\n",
       "    <tr style=\"text-align: right;\">\n",
       "      <th></th>\n",
       "      <th>통과 보행자</th>\n",
       "      <th>보행시간</th>\n",
       "      <th>보행자분류_일반</th>\n",
       "      <th>보행자분류_적색횡단</th>\n",
       "      <th>보행자분류_무단횡단</th>\n",
       "      <th>연장_횟수</th>\n",
       "      <th>연장_시간</th>\n",
       "      <th>연장_보행자</th>\n",
       "      <th>교통약자_목발</th>\n",
       "      <th>교통약자_휠체어</th>\n",
       "      <th>교통약자_유모차</th>\n",
       "      <th>교통약자_합계</th>\n",
       "      <th>잔여</th>\n",
       "    </tr>\n",
       "  </thead>\n",
       "  <tbody>\n",
       "    <tr>\n",
       "      <th>count</th>\n",
       "      <td>10148.000000</td>\n",
       "      <td>10148.000000</td>\n",
       "      <td>10148.000000</td>\n",
       "      <td>10148.000000</td>\n",
       "      <td>10148.0</td>\n",
       "      <td>10148.000000</td>\n",
       "      <td>10148.000000</td>\n",
       "      <td>10148.000000</td>\n",
       "      <td>3225.000000</td>\n",
       "      <td>3225.000000</td>\n",
       "      <td>3225.000000</td>\n",
       "      <td>10148.000000</td>\n",
       "      <td>10148.000000</td>\n",
       "    </tr>\n",
       "    <tr>\n",
       "      <th>mean</th>\n",
       "      <td>15.192452</td>\n",
       "      <td>10.812983</td>\n",
       "      <td>13.685751</td>\n",
       "      <td>0.472901</td>\n",
       "      <td>0.0</td>\n",
       "      <td>1.207923</td>\n",
       "      <td>4.883918</td>\n",
       "      <td>1.012219</td>\n",
       "      <td>0.351318</td>\n",
       "      <td>0.946357</td>\n",
       "      <td>0.083411</td>\n",
       "      <td>1.213145</td>\n",
       "      <td>0.434470</td>\n",
       "    </tr>\n",
       "    <tr>\n",
       "      <th>std</th>\n",
       "      <td>15.962973</td>\n",
       "      <td>11.127101</td>\n",
       "      <td>14.118035</td>\n",
       "      <td>0.822442</td>\n",
       "      <td>0.0</td>\n",
       "      <td>1.867633</td>\n",
       "      <td>9.053890</td>\n",
       "      <td>2.038036</td>\n",
       "      <td>0.728487</td>\n",
       "      <td>1.387390</td>\n",
       "      <td>0.305330</td>\n",
       "      <td>1.708476</td>\n",
       "      <td>1.060105</td>\n",
       "    </tr>\n",
       "    <tr>\n",
       "      <th>min</th>\n",
       "      <td>0.000000</td>\n",
       "      <td>0.000000</td>\n",
       "      <td>0.000000</td>\n",
       "      <td>0.000000</td>\n",
       "      <td>0.0</td>\n",
       "      <td>0.000000</td>\n",
       "      <td>0.000000</td>\n",
       "      <td>0.000000</td>\n",
       "      <td>0.000000</td>\n",
       "      <td>0.000000</td>\n",
       "      <td>0.000000</td>\n",
       "      <td>0.000000</td>\n",
       "      <td>0.000000</td>\n",
       "    </tr>\n",
       "    <tr>\n",
       "      <th>25%</th>\n",
       "      <td>3.000000</td>\n",
       "      <td>0.000000</td>\n",
       "      <td>2.000000</td>\n",
       "      <td>0.000000</td>\n",
       "      <td>0.0</td>\n",
       "      <td>0.000000</td>\n",
       "      <td>0.000000</td>\n",
       "      <td>0.000000</td>\n",
       "      <td>0.000000</td>\n",
       "      <td>0.000000</td>\n",
       "      <td>0.000000</td>\n",
       "      <td>0.000000</td>\n",
       "      <td>0.000000</td>\n",
       "    </tr>\n",
       "    <tr>\n",
       "      <th>50%</th>\n",
       "      <td>11.000000</td>\n",
       "      <td>12.000000</td>\n",
       "      <td>10.000000</td>\n",
       "      <td>0.000000</td>\n",
       "      <td>0.0</td>\n",
       "      <td>1.000000</td>\n",
       "      <td>0.000000</td>\n",
       "      <td>0.000000</td>\n",
       "      <td>0.000000</td>\n",
       "      <td>0.000000</td>\n",
       "      <td>0.000000</td>\n",
       "      <td>1.000000</td>\n",
       "      <td>0.000000</td>\n",
       "    </tr>\n",
       "    <tr>\n",
       "      <th>75%</th>\n",
       "      <td>22.000000</td>\n",
       "      <td>21.000000</td>\n",
       "      <td>21.000000</td>\n",
       "      <td>1.000000</td>\n",
       "      <td>0.0</td>\n",
       "      <td>2.000000</td>\n",
       "      <td>6.000000</td>\n",
       "      <td>1.000000</td>\n",
       "      <td>0.000000</td>\n",
       "      <td>1.000000</td>\n",
       "      <td>0.000000</td>\n",
       "      <td>2.000000</td>\n",
       "      <td>0.000000</td>\n",
       "    </tr>\n",
       "    <tr>\n",
       "      <th>max</th>\n",
       "      <td>111.000000</td>\n",
       "      <td>57.000000</td>\n",
       "      <td>85.000000</td>\n",
       "      <td>10.000000</td>\n",
       "      <td>0.0</td>\n",
       "      <td>20.000000</td>\n",
       "      <td>123.000000</td>\n",
       "      <td>36.000000</td>\n",
       "      <td>8.000000</td>\n",
       "      <td>10.000000</td>\n",
       "      <td>3.000000</td>\n",
       "      <td>16.000000</td>\n",
       "      <td>26.000000</td>\n",
       "    </tr>\n",
       "  </tbody>\n",
       "</table>\n",
       "</div>"
      ],
      "text/plain": [
       "             통과 보행자          보행시간      보행자분류_일반    보행자분류_적색횡단  보행자분류_무단횡단  \\\n",
       "count  10148.000000  10148.000000  10148.000000  10148.000000     10148.0   \n",
       "mean      15.192452     10.812983     13.685751      0.472901         0.0   \n",
       "std       15.962973     11.127101     14.118035      0.822442         0.0   \n",
       "min        0.000000      0.000000      0.000000      0.000000         0.0   \n",
       "25%        3.000000      0.000000      2.000000      0.000000         0.0   \n",
       "50%       11.000000     12.000000     10.000000      0.000000         0.0   \n",
       "75%       22.000000     21.000000     21.000000      1.000000         0.0   \n",
       "max      111.000000     57.000000     85.000000     10.000000         0.0   \n",
       "\n",
       "              연장_횟수         연장_시간        연장_보행자      교통약자_목발     교통약자_휠체어  \\\n",
       "count  10148.000000  10148.000000  10148.000000  3225.000000  3225.000000   \n",
       "mean       1.207923      4.883918      1.012219     0.351318     0.946357   \n",
       "std        1.867633      9.053890      2.038036     0.728487     1.387390   \n",
       "min        0.000000      0.000000      0.000000     0.000000     0.000000   \n",
       "25%        0.000000      0.000000      0.000000     0.000000     0.000000   \n",
       "50%        1.000000      0.000000      0.000000     0.000000     0.000000   \n",
       "75%        2.000000      6.000000      1.000000     0.000000     1.000000   \n",
       "max       20.000000    123.000000     36.000000     8.000000    10.000000   \n",
       "\n",
       "          교통약자_유모차       교통약자_합계            잔여  \n",
       "count  3225.000000  10148.000000  10148.000000  \n",
       "mean      0.083411      1.213145      0.434470  \n",
       "std       0.305330      1.708476      1.060105  \n",
       "min       0.000000      0.000000      0.000000  \n",
       "25%       0.000000      0.000000      0.000000  \n",
       "50%       0.000000      1.000000      0.000000  \n",
       "75%       0.000000      2.000000      0.000000  \n",
       "max       3.000000     16.000000     26.000000  "
      ]
     },
     "execution_count": 24,
     "metadata": {},
     "output_type": "execute_result"
    }
   ],
   "source": [
    "data.loc[data.현장명.str.startswith(\"파주\")][cols].describe()"
   ]
  },
  {
   "cell_type": "markdown",
   "id": "715f9e0f",
   "metadata": {},
   "source": [
    "# "
   ]
  },
  {
   "cell_type": "code",
   "execution_count": null,
   "id": "eb7606d3",
   "metadata": {},
   "outputs": [],
   "source": []
  }
 ],
 "metadata": {
  "kernelspec": {
   "display_name": "Python 3 (ipykernel)",
   "language": "python",
   "name": "python3"
  },
  "language_info": {
   "codemirror_mode": {
    "name": "ipython",
    "version": 3
   },
   "file_extension": ".py",
   "mimetype": "text/x-python",
   "name": "python",
   "nbconvert_exporter": "python",
   "pygments_lexer": "ipython3",
   "version": "3.9.12"
  }
 },
 "nbformat": 4,
 "nbformat_minor": 5
}
