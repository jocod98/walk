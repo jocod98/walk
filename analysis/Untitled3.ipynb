{
 "cells": [
  {
   "cell_type": "markdown",
   "id": "fc685d75",
   "metadata": {},
   "source": [
    "# T-test"
   ]
  },
  {
   "cell_type": "code",
   "execution_count": 2,
   "id": "36c4b1f6",
   "metadata": {},
   "outputs": [],
   "source": [
    "import numpy as np\n",
    "import pandas as pd\n",
    "import os"
   ]
  },
  {
   "cell_type": "code",
   "execution_count": 3,
   "id": "c84d95b1",
   "metadata": {},
   "outputs": [],
   "source": [
    "data = pd.read_excel(\"../data/handled/nan_deleted.xlsx\")"
   ]
  },
  {
   "cell_type": "code",
   "execution_count": 5,
   "id": "e73439da",
   "metadata": {},
   "outputs": [
    {
     "data": {
      "text/plain": [
       "array(['자운학교앞(5)', '금촌119안전센터(3)', '노인복지관(2)', '파주병원(4)'], dtype=object)"
      ]
     },
     "execution_count": 5,
     "metadata": {},
     "output_type": "execute_result"
    }
   ],
   "source": [
    "data.현장명.unique()"
   ]
  },
  {
   "cell_type": "code",
   "execution_count": 27,
   "id": "ff462f40",
   "metadata": {},
   "outputs": [],
   "source": [
    "c = data.loc[data.현장명 == '자운학교앞(5)'].describe()['보행시간']"
   ]
  },
  {
   "cell_type": "code",
   "execution_count": 28,
   "id": "f0c2292f",
   "metadata": {},
   "outputs": [],
   "source": [
    "b = data.loc[data.현장명 == '노인복지관(2)'].describe()['보행시간']"
   ]
  },
  {
   "cell_type": "code",
   "execution_count": 29,
   "id": "b1765fd2",
   "metadata": {},
   "outputs": [],
   "source": [
    "a = data.loc[data.현장명 == '금촌119안전센터(3)'].describe()['보행시간']"
   ]
  },
  {
   "cell_type": "code",
   "execution_count": 30,
   "id": "60617da5",
   "metadata": {},
   "outputs": [],
   "source": [
    "d = data.loc[data.현장명 == '파주병원(4)'].describe()['보행시간']"
   ]
  },
  {
   "cell_type": "code",
   "execution_count": 31,
   "id": "d8abe597",
   "metadata": {},
   "outputs": [],
   "source": [
    "pd.DataFrame({\"금촌119안전센터\":a,\"자운학교 앞\":c, \"노인복지관\":c, \"파주병원\":d}).T.to_csv(\"기초통계량_보행시간.csv\",encoding = 'cp949')"
   ]
  },
  {
   "cell_type": "code",
   "execution_count": 32,
   "id": "80f57975",
   "metadata": {},
   "outputs": [
    {
     "data": {
      "text/plain": [
       "Index(['Unnamed: 0', 'index', '번호', '현장명', '일시', '신호횟수', '운영시간', '녹색시간',\n",
       "       '통과보행자', '보행시간', '보행자분류_일반', '보행자분류_적색횡단', '보행자분류_무단횡단', '연장_횟수',\n",
       "       '연장_시간', '연장_보행자', '교통약자_목발', '교통약자_휠체어', '교통약자_유모차', '교통약자_합계', '잔여',\n",
       "       '보도길이', '보행속도'],\n",
       "      dtype='object')"
      ]
     },
     "execution_count": 32,
     "metadata": {},
     "output_type": "execute_result"
    }
   ],
   "source": [
    "data.columns"
   ]
  },
  {
   "cell_type": "code",
   "execution_count": 33,
   "id": "348e3189",
   "metadata": {},
   "outputs": [],
   "source": [
    "team1 = data.loc[data.교통약자_합계==0]\n",
    "team2 = data.loc[data.교통약자_합계 >0]"
   ]
  },
  {
   "cell_type": "code",
   "execution_count": 40,
   "id": "b65e8eab",
   "metadata": {},
   "outputs": [],
   "source": [
    "team1 = team1.보행시간"
   ]
  },
  {
   "cell_type": "code",
   "execution_count": 41,
   "id": "9c6aa518",
   "metadata": {},
   "outputs": [],
   "source": [
    "team2 = team2.보행시간"
   ]
  },
  {
   "cell_type": "code",
   "execution_count": 42,
   "id": "b52c0704",
   "metadata": {},
   "outputs": [
    {
     "data": {
      "text/plain": [
       "Ttest_indResult(statistic=-44.121165718851564, pvalue=0.0)"
      ]
     },
     "execution_count": 42,
     "metadata": {},
     "output_type": "execute_result"
    }
   ],
   "source": [
    "import scipy.stats\n",
    "\n",
    "scipy.stats.ttest_ind(team1, team2, equal_var=False)"
   ]
  },
  {
   "cell_type": "code",
   "execution_count": 44,
   "id": "d0cd2992",
   "metadata": {},
   "outputs": [
    {
     "data": {
      "text/plain": [
       "14.165569265199858"
      ]
     },
     "execution_count": 44,
     "metadata": {},
     "output_type": "execute_result"
    }
   ],
   "source": [
    "team1.mean()"
   ]
  },
  {
   "cell_type": "code",
   "execution_count": 45,
   "id": "007a76d9",
   "metadata": {},
   "outputs": [
    {
     "data": {
      "text/plain": [
       "20.537338094646774"
      ]
     },
     "execution_count": 45,
     "metadata": {},
     "output_type": "execute_result"
    }
   ],
   "source": [
    "team2.mean()"
   ]
  },
  {
   "cell_type": "code",
   "execution_count": 46,
   "id": "ef40dd1a",
   "metadata": {},
   "outputs": [
    {
     "data": {
      "text/plain": [
       "1        27.000000\n",
       "2        27.791667\n",
       "3        27.833333\n",
       "4        26.150000\n",
       "5        23.250000\n",
       "           ...    \n",
       "12941    19.687500\n",
       "12942    20.000000\n",
       "12943    21.500000\n",
       "12944    16.250000\n",
       "12945    21.142857\n",
       "Name: 보행시간, Length: 7093, dtype: float64"
      ]
     },
     "execution_count": 46,
     "metadata": {},
     "output_type": "execute_result"
    }
   ],
   "source": [
    "team2"
   ]
  },
  {
   "cell_type": "code",
   "execution_count": 52,
   "id": "bb8c4e87",
   "metadata": {},
   "outputs": [],
   "source": [
    "data =data.iloc[:,3:]"
   ]
  },
  {
   "cell_type": "code",
   "execution_count": 56,
   "id": "8a96a1ec",
   "metadata": {},
   "outputs": [],
   "source": [
    "time = data.일시.str[10:13]"
   ]
  },
  {
   "cell_type": "code",
   "execution_count": 62,
   "id": "104fc382",
   "metadata": {},
   "outputs": [],
   "source": [
    "time = time.astype('int')"
   ]
  },
  {
   "cell_type": "code",
   "execution_count": 65,
   "id": "4114e18d",
   "metadata": {},
   "outputs": [],
   "source": [
    "data['시간'] = time"
   ]
  },
  {
   "cell_type": "code",
   "execution_count": 69,
   "id": "983f75c0",
   "metadata": {},
   "outputs": [],
   "source": [
    "month = data.일시.str[6:7]"
   ]
  },
  {
   "cell_type": "code",
   "execution_count": 71,
   "id": "a4124e71",
   "metadata": {},
   "outputs": [],
   "source": [
    "data['월'] = month.astype('int')"
   ]
  },
  {
   "cell_type": "code",
   "execution_count": 73,
   "id": "24c42921",
   "metadata": {},
   "outputs": [],
   "source": [
    "data['일시'] = pd.to_datetime(data.일시)"
   ]
  },
  {
   "cell_type": "code",
   "execution_count": 75,
   "id": "6121cb55",
   "metadata": {},
   "outputs": [],
   "source": [
    "data['요일(0~6)'] = data.일시.dt.weekday"
   ]
  },
  {
   "cell_type": "code",
   "execution_count": 76,
   "id": "91f9c5b0",
   "metadata": {},
   "outputs": [
    {
     "data": {
      "text/html": [
       "<div>\n",
       "<style scoped>\n",
       "    .dataframe tbody tr th:only-of-type {\n",
       "        vertical-align: middle;\n",
       "    }\n",
       "\n",
       "    .dataframe tbody tr th {\n",
       "        vertical-align: top;\n",
       "    }\n",
       "\n",
       "    .dataframe thead th {\n",
       "        text-align: right;\n",
       "    }\n",
       "</style>\n",
       "<table border=\"1\" class=\"dataframe\">\n",
       "  <thead>\n",
       "    <tr style=\"text-align: right;\">\n",
       "      <th></th>\n",
       "      <th>현장명</th>\n",
       "      <th>일시</th>\n",
       "      <th>신호횟수</th>\n",
       "      <th>운영시간</th>\n",
       "      <th>녹색시간</th>\n",
       "      <th>통과보행자</th>\n",
       "      <th>보행시간</th>\n",
       "      <th>보행자분류_일반</th>\n",
       "      <th>보행자분류_적색횡단</th>\n",
       "      <th>보행자분류_무단횡단</th>\n",
       "      <th>...</th>\n",
       "      <th>교통약자_목발</th>\n",
       "      <th>교통약자_휠체어</th>\n",
       "      <th>교통약자_유모차</th>\n",
       "      <th>교통약자_합계</th>\n",
       "      <th>잔여</th>\n",
       "      <th>보도길이</th>\n",
       "      <th>보행속도</th>\n",
       "      <th>시간</th>\n",
       "      <th>월</th>\n",
       "      <th>요일(0~6)</th>\n",
       "    </tr>\n",
       "  </thead>\n",
       "  <tbody>\n",
       "    <tr>\n",
       "      <th>0</th>\n",
       "      <td>자운학교앞(5)</td>\n",
       "      <td>2022-05-18 14:15:00</td>\n",
       "      <td>14</td>\n",
       "      <td>2053</td>\n",
       "      <td>563</td>\n",
       "      <td>24</td>\n",
       "      <td>25.285714</td>\n",
       "      <td>21</td>\n",
       "      <td>1</td>\n",
       "      <td>0</td>\n",
       "      <td>...</td>\n",
       "      <td>0</td>\n",
       "      <td>0</td>\n",
       "      <td>0</td>\n",
       "      <td>0</td>\n",
       "      <td>0</td>\n",
       "      <td>35</td>\n",
       "      <td>1.384181</td>\n",
       "      <td>14</td>\n",
       "      <td>5</td>\n",
       "      <td>2</td>\n",
       "    </tr>\n",
       "    <tr>\n",
       "      <th>1</th>\n",
       "      <td>자운학교앞(5)</td>\n",
       "      <td>2022-05-18 15:00:00</td>\n",
       "      <td>24</td>\n",
       "      <td>3600</td>\n",
       "      <td>983</td>\n",
       "      <td>94</td>\n",
       "      <td>27.000000</td>\n",
       "      <td>86</td>\n",
       "      <td>0</td>\n",
       "      <td>0</td>\n",
       "      <td>...</td>\n",
       "      <td>1</td>\n",
       "      <td>2</td>\n",
       "      <td>4</td>\n",
       "      <td>7</td>\n",
       "      <td>0</td>\n",
       "      <td>35</td>\n",
       "      <td>1.296296</td>\n",
       "      <td>15</td>\n",
       "      <td>5</td>\n",
       "      <td>2</td>\n",
       "    </tr>\n",
       "    <tr>\n",
       "      <th>2</th>\n",
       "      <td>자운학교앞(5)</td>\n",
       "      <td>2022-05-18 16:00:00</td>\n",
       "      <td>21</td>\n",
       "      <td>3570</td>\n",
       "      <td>852</td>\n",
       "      <td>58</td>\n",
       "      <td>27.791667</td>\n",
       "      <td>52</td>\n",
       "      <td>1</td>\n",
       "      <td>0</td>\n",
       "      <td>...</td>\n",
       "      <td>1</td>\n",
       "      <td>1</td>\n",
       "      <td>2</td>\n",
       "      <td>4</td>\n",
       "      <td>1</td>\n",
       "      <td>35</td>\n",
       "      <td>1.259370</td>\n",
       "      <td>16</td>\n",
       "      <td>5</td>\n",
       "      <td>2</td>\n",
       "    </tr>\n",
       "    <tr>\n",
       "      <th>3</th>\n",
       "      <td>자운학교앞(5)</td>\n",
       "      <td>2022-05-18 17:00:00</td>\n",
       "      <td>21</td>\n",
       "      <td>3571</td>\n",
       "      <td>868</td>\n",
       "      <td>77</td>\n",
       "      <td>27.833333</td>\n",
       "      <td>65</td>\n",
       "      <td>0</td>\n",
       "      <td>0</td>\n",
       "      <td>...</td>\n",
       "      <td>5</td>\n",
       "      <td>2</td>\n",
       "      <td>1</td>\n",
       "      <td>8</td>\n",
       "      <td>0</td>\n",
       "      <td>35</td>\n",
       "      <td>1.257485</td>\n",
       "      <td>17</td>\n",
       "      <td>5</td>\n",
       "      <td>2</td>\n",
       "    </tr>\n",
       "    <tr>\n",
       "      <th>4</th>\n",
       "      <td>자운학교앞(5)</td>\n",
       "      <td>2022-05-18 18:00:00</td>\n",
       "      <td>21</td>\n",
       "      <td>3569</td>\n",
       "      <td>849</td>\n",
       "      <td>54</td>\n",
       "      <td>26.150000</td>\n",
       "      <td>49</td>\n",
       "      <td>0</td>\n",
       "      <td>0</td>\n",
       "      <td>...</td>\n",
       "      <td>0</td>\n",
       "      <td>6</td>\n",
       "      <td>4</td>\n",
       "      <td>10</td>\n",
       "      <td>1</td>\n",
       "      <td>35</td>\n",
       "      <td>1.338432</td>\n",
       "      <td>18</td>\n",
       "      <td>5</td>\n",
       "      <td>2</td>\n",
       "    </tr>\n",
       "    <tr>\n",
       "      <th>...</th>\n",
       "      <td>...</td>\n",
       "      <td>...</td>\n",
       "      <td>...</td>\n",
       "      <td>...</td>\n",
       "      <td>...</td>\n",
       "      <td>...</td>\n",
       "      <td>...</td>\n",
       "      <td>...</td>\n",
       "      <td>...</td>\n",
       "      <td>...</td>\n",
       "      <td>...</td>\n",
       "      <td>...</td>\n",
       "      <td>...</td>\n",
       "      <td>...</td>\n",
       "      <td>...</td>\n",
       "      <td>...</td>\n",
       "      <td>...</td>\n",
       "      <td>...</td>\n",
       "      <td>...</td>\n",
       "      <td>...</td>\n",
       "      <td>...</td>\n",
       "    </tr>\n",
       "    <tr>\n",
       "      <th>12942</th>\n",
       "      <td>파주병원(4)</td>\n",
       "      <td>2022-09-30 19:00:00</td>\n",
       "      <td>29</td>\n",
       "      <td>3481</td>\n",
       "      <td>824</td>\n",
       "      <td>17</td>\n",
       "      <td>20.000000</td>\n",
       "      <td>16</td>\n",
       "      <td>0</td>\n",
       "      <td>0</td>\n",
       "      <td>...</td>\n",
       "      <td>0</td>\n",
       "      <td>1</td>\n",
       "      <td>0</td>\n",
       "      <td>1</td>\n",
       "      <td>0</td>\n",
       "      <td>20</td>\n",
       "      <td>1.000000</td>\n",
       "      <td>19</td>\n",
       "      <td>9</td>\n",
       "      <td>4</td>\n",
       "    </tr>\n",
       "    <tr>\n",
       "      <th>12943</th>\n",
       "      <td>파주병원(4)</td>\n",
       "      <td>2022-09-30 20:00:00</td>\n",
       "      <td>30</td>\n",
       "      <td>3600</td>\n",
       "      <td>843</td>\n",
       "      <td>17</td>\n",
       "      <td>21.500000</td>\n",
       "      <td>17</td>\n",
       "      <td>0</td>\n",
       "      <td>0</td>\n",
       "      <td>...</td>\n",
       "      <td>0</td>\n",
       "      <td>0</td>\n",
       "      <td>1</td>\n",
       "      <td>1</td>\n",
       "      <td>0</td>\n",
       "      <td>20</td>\n",
       "      <td>0.930233</td>\n",
       "      <td>20</td>\n",
       "      <td>9</td>\n",
       "      <td>4</td>\n",
       "    </tr>\n",
       "    <tr>\n",
       "      <th>12944</th>\n",
       "      <td>파주병원(4)</td>\n",
       "      <td>2022-09-30 21:00:00</td>\n",
       "      <td>30</td>\n",
       "      <td>3600</td>\n",
       "      <td>848</td>\n",
       "      <td>14</td>\n",
       "      <td>16.250000</td>\n",
       "      <td>10</td>\n",
       "      <td>1</td>\n",
       "      <td>0</td>\n",
       "      <td>...</td>\n",
       "      <td>2</td>\n",
       "      <td>1</td>\n",
       "      <td>0</td>\n",
       "      <td>3</td>\n",
       "      <td>0</td>\n",
       "      <td>20</td>\n",
       "      <td>1.230769</td>\n",
       "      <td>21</td>\n",
       "      <td>9</td>\n",
       "      <td>4</td>\n",
       "    </tr>\n",
       "    <tr>\n",
       "      <th>12945</th>\n",
       "      <td>파주병원(4)</td>\n",
       "      <td>2022-09-30 22:00:00</td>\n",
       "      <td>30</td>\n",
       "      <td>3599</td>\n",
       "      <td>853</td>\n",
       "      <td>13</td>\n",
       "      <td>21.142857</td>\n",
       "      <td>10</td>\n",
       "      <td>0</td>\n",
       "      <td>0</td>\n",
       "      <td>...</td>\n",
       "      <td>0</td>\n",
       "      <td>1</td>\n",
       "      <td>0</td>\n",
       "      <td>1</td>\n",
       "      <td>0</td>\n",
       "      <td>20</td>\n",
       "      <td>0.945946</td>\n",
       "      <td>22</td>\n",
       "      <td>9</td>\n",
       "      <td>4</td>\n",
       "    </tr>\n",
       "    <tr>\n",
       "      <th>12946</th>\n",
       "      <td>파주병원(4)</td>\n",
       "      <td>2022-09-30 23:00:00</td>\n",
       "      <td>31</td>\n",
       "      <td>3720</td>\n",
       "      <td>860</td>\n",
       "      <td>5</td>\n",
       "      <td>24.500000</td>\n",
       "      <td>1</td>\n",
       "      <td>4</td>\n",
       "      <td>0</td>\n",
       "      <td>...</td>\n",
       "      <td>0</td>\n",
       "      <td>0</td>\n",
       "      <td>0</td>\n",
       "      <td>0</td>\n",
       "      <td>0</td>\n",
       "      <td>20</td>\n",
       "      <td>0.816327</td>\n",
       "      <td>23</td>\n",
       "      <td>9</td>\n",
       "      <td>4</td>\n",
       "    </tr>\n",
       "  </tbody>\n",
       "</table>\n",
       "<p>12947 rows × 23 columns</p>\n",
       "</div>"
      ],
      "text/plain": [
       "            현장명                  일시  신호횟수  운영시간  녹색시간  통과보행자       보행시간  \\\n",
       "0      자운학교앞(5) 2022-05-18 14:15:00    14  2053   563     24  25.285714   \n",
       "1      자운학교앞(5) 2022-05-18 15:00:00    24  3600   983     94  27.000000   \n",
       "2      자운학교앞(5) 2022-05-18 16:00:00    21  3570   852     58  27.791667   \n",
       "3      자운학교앞(5) 2022-05-18 17:00:00    21  3571   868     77  27.833333   \n",
       "4      자운학교앞(5) 2022-05-18 18:00:00    21  3569   849     54  26.150000   \n",
       "...         ...                 ...   ...   ...   ...    ...        ...   \n",
       "12942   파주병원(4) 2022-09-30 19:00:00    29  3481   824     17  20.000000   \n",
       "12943   파주병원(4) 2022-09-30 20:00:00    30  3600   843     17  21.500000   \n",
       "12944   파주병원(4) 2022-09-30 21:00:00    30  3600   848     14  16.250000   \n",
       "12945   파주병원(4) 2022-09-30 22:00:00    30  3599   853     13  21.142857   \n",
       "12946   파주병원(4) 2022-09-30 23:00:00    31  3720   860      5  24.500000   \n",
       "\n",
       "       보행자분류_일반  보행자분류_적색횡단  보행자분류_무단횡단  ...  교통약자_목발  교통약자_휠체어  교통약자_유모차  \\\n",
       "0            21           1           0  ...        0         0         0   \n",
       "1            86           0           0  ...        1         2         4   \n",
       "2            52           1           0  ...        1         1         2   \n",
       "3            65           0           0  ...        5         2         1   \n",
       "4            49           0           0  ...        0         6         4   \n",
       "...         ...         ...         ...  ...      ...       ...       ...   \n",
       "12942        16           0           0  ...        0         1         0   \n",
       "12943        17           0           0  ...        0         0         1   \n",
       "12944        10           1           0  ...        2         1         0   \n",
       "12945        10           0           0  ...        0         1         0   \n",
       "12946         1           4           0  ...        0         0         0   \n",
       "\n",
       "       교통약자_합계  잔여  보도길이      보행속도  시간  월  요일(0~6)  \n",
       "0            0   0    35  1.384181  14  5        2  \n",
       "1            7   0    35  1.296296  15  5        2  \n",
       "2            4   1    35  1.259370  16  5        2  \n",
       "3            8   0    35  1.257485  17  5        2  \n",
       "4           10   1    35  1.338432  18  5        2  \n",
       "...        ...  ..   ...       ...  .. ..      ...  \n",
       "12942        1   0    20  1.000000  19  9        4  \n",
       "12943        1   0    20  0.930233  20  9        4  \n",
       "12944        3   0    20  1.230769  21  9        4  \n",
       "12945        1   0    20  0.945946  22  9        4  \n",
       "12946        0   0    20  0.816327  23  9        4  \n",
       "\n",
       "[12947 rows x 23 columns]"
      ]
     },
     "execution_count": 76,
     "metadata": {},
     "output_type": "execute_result"
    }
   ],
   "source": [
    "data"
   ]
  },
  {
   "cell_type": "code",
   "execution_count": 77,
   "id": "58d59552",
   "metadata": {},
   "outputs": [],
   "source": [
    "data.to_csv(\"../data/handled/컬럼추가.csv\",encoding = 'cp949')"
   ]
  },
  {
   "cell_type": "code",
   "execution_count": 81,
   "id": "eb638890",
   "metadata": {},
   "outputs": [],
   "source": [
    "data.columns =['현장명', '일시', '신호횟수', '운영시간', '녹색시간', '통과보행자', '보행시간', '보행자분류_일반',\n",
    "       '보행자분류_적색횡단', '보행자분류_무단횡단', '연장_횟수', '연장_시간', '연장_보행자', '교통약자_목발',\n",
    "       '교통약자_휠체어', '교통약자_유모차', '교통약자_합계', '잔여', '보도길이', '보행속도', '시간', '월',\n",
    "       '요일']"
   ]
  },
  {
   "cell_type": "markdown",
   "id": "40e23a86",
   "metadata": {},
   "source": [
    "# 선형회귀"
   ]
  },
  {
   "cell_type": "code",
   "execution_count": 79,
   "id": "97b2e4ef",
   "metadata": {},
   "outputs": [],
   "source": [
    "from statsmodels.formula.api import ols"
   ]
  },
  {
   "cell_type": "code",
   "execution_count": 82,
   "id": "cd5b1cc0",
   "metadata": {},
   "outputs": [],
   "source": [
    "model = ols('보행시간~보도길이+교통약자_유모차+교통약자_휠체어+교통약자_목발+시간+월+요일', data = data).fit()"
   ]
  },
  {
   "cell_type": "code",
   "execution_count": 85,
   "id": "61495378",
   "metadata": {},
   "outputs": [],
   "source": [
    "result = model.summary()"
   ]
  },
  {
   "cell_type": "code",
   "execution_count": 90,
   "id": "04082ce0",
   "metadata": {},
   "outputs": [
    {
     "name": "stdout",
     "output_type": "stream",
     "text": [
      "                            OLS Regression Results                            \n",
      "==============================================================================\n",
      "Dep. Variable:                   보행시간   R-squared:                       0.351\n",
      "Model:                            OLS   Adj. R-squared:                  0.350\n",
      "Method:                 Least Squares   F-statistic:                     998.4\n",
      "Date:                Fri, 18 Nov 2022   Prob (F-statistic):               0.00\n",
      "Time:                        16:20:28   Log-Likelihood:                -43083.\n",
      "No. Observations:               12947   AIC:                         8.618e+04\n",
      "Df Residuals:                   12939   BIC:                         8.624e+04\n",
      "Df Model:                           7                                         \n",
      "Covariance Type:            nonrobust                                         \n",
      "==============================================================================\n",
      "                 coef    std err          t      P>|t|      [0.025      0.975]\n",
      "------------------------------------------------------------------------------\n",
      "Intercept     -0.4761      0.407     -1.169      0.242      -1.274       0.322\n",
      "보도길이           0.5098      0.008     61.646      0.000       0.494       0.526\n",
      "교통약자_유모차      -0.2227      0.089     -2.503      0.012      -0.397      -0.048\n",
      "교통약자_휠체어       0.4983      0.042     11.816      0.000       0.416       0.581\n",
      "교통약자_목발        0.6927      0.081      8.603      0.000       0.535       0.850\n",
      "시간             0.3324      0.009     37.131      0.000       0.315       0.350\n",
      "월              0.3095      0.046      6.720      0.000       0.219       0.400\n",
      "요일             0.0942      0.030      3.145      0.002       0.035       0.153\n",
      "==============================================================================\n",
      "Omnibus:                     1008.052   Durbin-Watson:                   1.419\n",
      "Prob(Omnibus):                  0.000   Jarque-Bera (JB):             3148.904\n",
      "Skew:                          -0.394   Prob(JB):                         0.00\n",
      "Kurtosis:                       5.284   Cond. No.                         186.\n",
      "==============================================================================\n",
      "\n",
      "Notes:\n",
      "[1] Standard Errors assume that the covariance matrix of the errors is correctly specified.\n"
     ]
    }
   ],
   "source": [
    "print(result)"
   ]
  },
  {
   "cell_type": "code",
   "execution_count": 112,
   "id": "8693b1bf",
   "metadata": {},
   "outputs": [],
   "source": [
    "model2 = ols('보행시간~통과보행자+금촌+노인+자운+병원+교통약자_유모차+교통약자_휠체어+교통약자_목발+시간+월', data = data).fit().summary()"
   ]
  },
  {
   "cell_type": "code",
   "execution_count": 113,
   "id": "d68e9ef9",
   "metadata": {},
   "outputs": [
    {
     "name": "stdout",
     "output_type": "stream",
     "text": [
      "                            OLS Regression Results                            \n",
      "==============================================================================\n",
      "Dep. Variable:                   보행시간   R-squared:                       0.434\n",
      "Model:                            OLS   Adj. R-squared:                  0.433\n",
      "Method:                 Least Squares   F-statistic:                     1100.\n",
      "Date:                Fri, 18 Nov 2022   Prob (F-statistic):               0.00\n",
      "Time:                        16:39:28   Log-Likelihood:                -42199.\n",
      "No. Observations:               12947   AIC:                         8.442e+04\n",
      "Df Residuals:                   12937   BIC:                         8.449e+04\n",
      "Df Model:                           9                                         \n",
      "Covariance Type:            nonrobust                                         \n",
      "==============================================================================\n",
      "                 coef    std err          t      P>|t|      [0.025      0.975]\n",
      "------------------------------------------------------------------------------\n",
      "Intercept      9.2015      0.265     34.683      0.000       8.681       9.722\n",
      "금촌[T.True]     0.5048      0.119      4.232      0.000       0.271       0.739\n",
      "노인[T.True]    -3.4035      0.119    -28.708      0.000      -3.636      -3.171\n",
      "자운[T.True]     8.3960      0.125     67.100      0.000       8.151       8.641\n",
      "병원[T.True]     3.7041      0.118     31.360      0.000       3.473       3.936\n",
      "통과보행자          0.0967      0.003     33.647      0.000       0.091       0.102\n",
      "교통약자_유모차      -0.4997      0.085     -5.879      0.000      -0.666      -0.333\n",
      "교통약자_휠체어      -0.2206      0.043     -5.077      0.000      -0.306      -0.135\n",
      "교통약자_목발       -0.2306      0.079     -2.908      0.004      -0.386      -0.075\n",
      "시간             0.2950      0.008     34.852      0.000       0.278       0.312\n",
      "월              0.1243      0.043      2.869      0.004       0.039       0.209\n",
      "==============================================================================\n",
      "Omnibus:                     1157.755   Durbin-Watson:                   1.609\n",
      "Prob(Omnibus):                  0.000   Jarque-Bera (JB):             6448.269\n",
      "Skew:                          -0.240   Prob(JB):                         0.00\n",
      "Kurtosis:                       6.424   Cond. No.                     3.41e+16\n",
      "==============================================================================\n",
      "\n",
      "Notes:\n",
      "[1] Standard Errors assume that the covariance matrix of the errors is correctly specified.\n",
      "[2] The smallest eigenvalue is 1.5e-26. This might indicate that there are\n",
      "strong multicollinearity problems or that the design matrix is singular.\n"
     ]
    }
   ],
   "source": [
    "print(model2)"
   ]
  },
  {
   "cell_type": "code",
   "execution_count": 110,
   "id": "6623cc05",
   "metadata": {},
   "outputs": [],
   "source": [
    "data['금촌'] = data.현장명.str.startswith(\"금촌\")\n",
    "data['노인'] = data.현장명.str.startswith(\"노인\")\n",
    "data['자운'] = data.현장명.str.startswith(\"자운\")\n",
    "data['병원'] = data.현장명.str.startswith(\"파주\")"
   ]
  },
  {
   "cell_type": "code",
   "execution_count": 111,
   "id": "b4f444cf",
   "metadata": {},
   "outputs": [
    {
     "data": {
      "text/plain": [
       "array(['자운학교앞(5)', '금촌119안전센터(3)', '노인복지관(2)', '파주병원(4)'], dtype=object)"
      ]
     },
     "execution_count": 111,
     "metadata": {},
     "output_type": "execute_result"
    }
   ],
   "source": [
    "data.현장명.unique()"
   ]
  },
  {
   "cell_type": "code",
   "execution_count": null,
   "id": "c11cdab4",
   "metadata": {},
   "outputs": [],
   "source": [
    "data"
   ]
  }
 ],
 "metadata": {
  "kernelspec": {
   "display_name": "Python 3 (ipykernel)",
   "language": "python",
   "name": "python3"
  },
  "language_info": {
   "codemirror_mode": {
    "name": "ipython",
    "version": 3
   },
   "file_extension": ".py",
   "mimetype": "text/x-python",
   "name": "python",
   "nbconvert_exporter": "python",
   "pygments_lexer": "ipython3",
   "version": "3.9.12"
  }
 },
 "nbformat": 4,
 "nbformat_minor": 5
}
